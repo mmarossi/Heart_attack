{
  "nbformat": 4,
  "nbformat_minor": 0,
  "metadata": {
    "kernelspec": {
      "display_name": "Python 3",
      "language": "python",
      "name": "python3"
    },
    "language_info": {
      "codemirror_mode": {
        "name": "ipython",
        "version": 3
      },
      "file_extension": ".py",
      "mimetype": "text/x-python",
      "name": "python",
      "nbconvert_exporter": "python",
      "pygments_lexer": "ipython3",
      "version": "3.6.4"
    },
    "colab": {
      "name": "Heart_attack",
      "provenance": [],
      "collapsed_sections": [],
      "include_colab_link": true
    }
  },
  "cells": [
    {
      "cell_type": "markdown",
      "metadata": {
        "id": "view-in-github",
        "colab_type": "text"
      },
      "source": [
        "<a href=\"https://colab.research.google.com/github/mmarossi/Heart_attack/blob/main/Heart_attack.ipynb\" target=\"_parent\"><img src=\"https://colab.research.google.com/assets/colab-badge.svg\" alt=\"Open In Colab\"/></a>"
      ]
    },
    {
      "cell_type": "markdown",
      "metadata": {
        "id": "wIl-k3lr8Qiv"
      },
      "source": [
        "# **Heart Attack**\n",
        "\n",
        "\n"
      ]
    },
    {
      "cell_type": "markdown",
      "metadata": {
        "id": "SN6weYKF8N8v"
      },
      "source": [
        "Vamos analisar uma base de pacientes propensos ou não a ter ataques cardiacos de acordo com o histórico de dados obtido em: www.kaggle.com"
      ]
    },
    {
      "cell_type": "markdown",
      "metadata": {
        "id": "_5wwHwTQ8N8v"
      },
      "source": [
        "### *Importando* bibliotecas\n"
      ]
    },
    {
      "cell_type": "code",
      "metadata": {
        "id": "i_5G2bRaHU8i"
      },
      "source": [
        "import pandas as pd #biblioteca para manipulação de dados\n",
        "import numpy as np #biblioteca para utilizacao de vetores e matrizes\n",
        "import matplotlib.pyplot as plt #bibloteca para plotar graficos"
      ],
      "execution_count": 41,
      "outputs": []
    },
    {
      "cell_type": "code",
      "metadata": {
        "id": "ufc7rjN0Hbb7",
        "colab": {
          "resources": {
            "http://localhost:8080/nbextensions/google.colab/files.js": {
              "data": "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",
              "ok": true,
              "headers": [
                [
                  "content-type",
                  "application/javascript"
                ]
              ],
              "status": 200,
              "status_text": ""
            }
          },
          "base_uri": "https://localhost:8080/",
          "height": 73
        },
        "outputId": "4a932b00-10c2-4c4d-c493-cd5580b6d683"
      },
      "source": [
        "from google.colab import files  #biblioteca utilizada para carregar os dados para o google colab\n",
        "uploaded = files.upload()"
      ],
      "execution_count": 42,
      "outputs": [
        {
          "output_type": "display_data",
          "data": {
            "text/html": [
              "\n",
              "     <input type=\"file\" id=\"files-7bb5d5ab-8e0a-4f38-9c44-36ca022c1b87\" name=\"files[]\" multiple disabled\n",
              "        style=\"border:none\" />\n",
              "     <output id=\"result-7bb5d5ab-8e0a-4f38-9c44-36ca022c1b87\">\n",
              "      Upload widget is only available when the cell has been executed in the\n",
              "      current browser session. Please rerun this cell to enable.\n",
              "      </output>\n",
              "      <script src=\"/nbextensions/google.colab/files.js\"></script> "
            ],
            "text/plain": [
              "<IPython.core.display.HTML object>"
            ]
          },
          "metadata": {}
        },
        {
          "output_type": "stream",
          "text": [
            "Saving heart.csv to heart (1).csv\n"
          ],
          "name": "stdout"
        }
      ]
    },
    {
      "cell_type": "markdown",
      "metadata": {
        "id": "L9aBPfZwHjwK"
      },
      "source": [
        "### Carregamento dos dados"
      ]
    },
    {
      "cell_type": "code",
      "metadata": {
        "id": "FTLPdcSaHsIo"
      },
      "source": [
        "nome_do_arquivo=\"heart.csv\""
      ],
      "execution_count": 43,
      "outputs": []
    },
    {
      "cell_type": "code",
      "metadata": {
        "id": "Yw9wSFNd8N8w",
        "colab": {
          "base_uri": "https://localhost:8080/",
          "height": 143
        },
        "outputId": "a361bd10-10e5-411f-8f50-41ce418e0292"
      },
      "source": [
        "df=pd.read_csv(nome_do_arquivo)\n",
        "df.head(3)"
      ],
      "execution_count": 44,
      "outputs": [
        {
          "output_type": "execute_result",
          "data": {
            "text/html": [
              "<div>\n",
              "<style scoped>\n",
              "    .dataframe tbody tr th:only-of-type {\n",
              "        vertical-align: middle;\n",
              "    }\n",
              "\n",
              "    .dataframe tbody tr th {\n",
              "        vertical-align: top;\n",
              "    }\n",
              "\n",
              "    .dataframe thead th {\n",
              "        text-align: right;\n",
              "    }\n",
              "</style>\n",
              "<table border=\"1\" class=\"dataframe\">\n",
              "  <thead>\n",
              "    <tr style=\"text-align: right;\">\n",
              "      <th></th>\n",
              "      <th>age</th>\n",
              "      <th>sex</th>\n",
              "      <th>cp</th>\n",
              "      <th>trtbps</th>\n",
              "      <th>chol</th>\n",
              "      <th>fbs</th>\n",
              "      <th>restecg</th>\n",
              "      <th>thalachh</th>\n",
              "      <th>exng</th>\n",
              "      <th>oldpeak</th>\n",
              "      <th>slp</th>\n",
              "      <th>caa</th>\n",
              "      <th>thall</th>\n",
              "      <th>output</th>\n",
              "    </tr>\n",
              "  </thead>\n",
              "  <tbody>\n",
              "    <tr>\n",
              "      <th>0</th>\n",
              "      <td>63</td>\n",
              "      <td>1</td>\n",
              "      <td>3</td>\n",
              "      <td>145</td>\n",
              "      <td>233</td>\n",
              "      <td>1</td>\n",
              "      <td>0</td>\n",
              "      <td>150</td>\n",
              "      <td>0</td>\n",
              "      <td>2.3</td>\n",
              "      <td>0</td>\n",
              "      <td>0</td>\n",
              "      <td>1</td>\n",
              "      <td>1</td>\n",
              "    </tr>\n",
              "    <tr>\n",
              "      <th>1</th>\n",
              "      <td>37</td>\n",
              "      <td>1</td>\n",
              "      <td>2</td>\n",
              "      <td>130</td>\n",
              "      <td>250</td>\n",
              "      <td>0</td>\n",
              "      <td>1</td>\n",
              "      <td>187</td>\n",
              "      <td>0</td>\n",
              "      <td>3.5</td>\n",
              "      <td>0</td>\n",
              "      <td>0</td>\n",
              "      <td>2</td>\n",
              "      <td>1</td>\n",
              "    </tr>\n",
              "    <tr>\n",
              "      <th>2</th>\n",
              "      <td>41</td>\n",
              "      <td>0</td>\n",
              "      <td>1</td>\n",
              "      <td>130</td>\n",
              "      <td>204</td>\n",
              "      <td>0</td>\n",
              "      <td>0</td>\n",
              "      <td>172</td>\n",
              "      <td>0</td>\n",
              "      <td>1.4</td>\n",
              "      <td>2</td>\n",
              "      <td>0</td>\n",
              "      <td>2</td>\n",
              "      <td>1</td>\n",
              "    </tr>\n",
              "  </tbody>\n",
              "</table>\n",
              "</div>"
            ],
            "text/plain": [
              "   age  sex  cp  trtbps  chol  fbs  ...  exng  oldpeak  slp  caa  thall  output\n",
              "0   63    1   3     145   233    1  ...     0      2.3    0    0      1       1\n",
              "1   37    1   2     130   250    0  ...     0      3.5    0    0      2       1\n",
              "2   41    0   1     130   204    0  ...     0      1.4    2    0      2       1\n",
              "\n",
              "[3 rows x 14 columns]"
            ]
          },
          "metadata": {},
          "execution_count": 44
        }
      ]
    },
    {
      "cell_type": "markdown",
      "metadata": {
        "id": "cFaZnXnAIonA"
      },
      "source": [
        "age - Age of the person / \n",
        "sex - Gender of the person / \n",
        "cp - Chest Pain type chest pain type / \n",
        "trtbps - resting blood pressure (in mm Hg) / \n",
        "chol - cholestoral in mg/dl fetched via BMI sensor / \n",
        "fbs - (fasting blood sugar > 120 mg/dl) (1 = true; 0 = false) / \n",
        "restecg - resting electrocardiographic results / \n",
        "thalachh - maximum heart rate achieved / \n",
        "exng - exercise induced angina (1 = yes; 0 = no) / \n",
        "oldpeak - Previous peak / \n",
        "slp – Slope / \n",
        "caa - number of major vessels (0-3) / \n",
        "thall - Thal rate / \n",
        "output - Target variable\n"
      ]
    },
    {
      "cell_type": "code",
      "metadata": {
        "id": "d_lxVAD-8N86",
        "colab": {
          "base_uri": "https://localhost:8080/"
        },
        "outputId": "dc06ec4b-75bf-41e6-8b32-62af76a77d70"
      },
      "source": [
        "print('Amostras e Features:', df.shape)"
      ],
      "execution_count": 45,
      "outputs": [
        {
          "output_type": "stream",
          "text": [
            "Amostras e Features: (303, 14)\n"
          ],
          "name": "stdout"
        }
      ]
    },
    {
      "cell_type": "code",
      "metadata": {
        "id": "MILEATwd8N9A",
        "colab": {
          "base_uri": "https://localhost:8080/"
        },
        "outputId": "f654438e-122d-4b4d-9a3e-42ca2ca24235"
      },
      "source": [
        "# tipos das features\n",
        "df.columns"
      ],
      "execution_count": 46,
      "outputs": [
        {
          "output_type": "execute_result",
          "data": {
            "text/plain": [
              "Index(['age', 'sex', 'cp', 'trtbps', 'chol', 'fbs', 'restecg', 'thalachh',\n",
              "       'exng', 'oldpeak', 'slp', 'caa', 'thall', 'output'],\n",
              "      dtype='object')"
            ]
          },
          "metadata": {},
          "execution_count": 46
        }
      ]
    },
    {
      "cell_type": "markdown",
      "metadata": {
        "id": "b2aq9YGyJ_YN"
      },
      "source": [
        "### Pré processamento"
      ]
    },
    {
      "cell_type": "markdown",
      "metadata": {
        "id": "_J94oUYW8N9Q"
      },
      "source": [
        "Uma outra etapa importante do pré-processamento consiste na avaliação de dados faltantes. \n",
        "\n"
      ]
    },
    {
      "cell_type": "code",
      "metadata": {
        "id": "fOQWr4kR8N9R",
        "colab": {
          "base_uri": "https://localhost:8080/",
          "height": 319
        },
        "outputId": "64f4bc62-9ce7-4223-e232-dfb0f5fa59ef"
      },
      "source": [
        "df.describe()"
      ],
      "execution_count": 47,
      "outputs": [
        {
          "output_type": "execute_result",
          "data": {
            "text/html": [
              "<div>\n",
              "<style scoped>\n",
              "    .dataframe tbody tr th:only-of-type {\n",
              "        vertical-align: middle;\n",
              "    }\n",
              "\n",
              "    .dataframe tbody tr th {\n",
              "        vertical-align: top;\n",
              "    }\n",
              "\n",
              "    .dataframe thead th {\n",
              "        text-align: right;\n",
              "    }\n",
              "</style>\n",
              "<table border=\"1\" class=\"dataframe\">\n",
              "  <thead>\n",
              "    <tr style=\"text-align: right;\">\n",
              "      <th></th>\n",
              "      <th>age</th>\n",
              "      <th>sex</th>\n",
              "      <th>cp</th>\n",
              "      <th>trtbps</th>\n",
              "      <th>chol</th>\n",
              "      <th>fbs</th>\n",
              "      <th>restecg</th>\n",
              "      <th>thalachh</th>\n",
              "      <th>exng</th>\n",
              "      <th>oldpeak</th>\n",
              "      <th>slp</th>\n",
              "      <th>caa</th>\n",
              "      <th>thall</th>\n",
              "      <th>output</th>\n",
              "    </tr>\n",
              "  </thead>\n",
              "  <tbody>\n",
              "    <tr>\n",
              "      <th>count</th>\n",
              "      <td>303.000000</td>\n",
              "      <td>303.000000</td>\n",
              "      <td>303.000000</td>\n",
              "      <td>303.000000</td>\n",
              "      <td>303.000000</td>\n",
              "      <td>303.000000</td>\n",
              "      <td>303.000000</td>\n",
              "      <td>303.000000</td>\n",
              "      <td>303.000000</td>\n",
              "      <td>303.000000</td>\n",
              "      <td>303.000000</td>\n",
              "      <td>303.000000</td>\n",
              "      <td>303.000000</td>\n",
              "      <td>303.000000</td>\n",
              "    </tr>\n",
              "    <tr>\n",
              "      <th>mean</th>\n",
              "      <td>54.366337</td>\n",
              "      <td>0.683168</td>\n",
              "      <td>0.966997</td>\n",
              "      <td>131.623762</td>\n",
              "      <td>246.264026</td>\n",
              "      <td>0.148515</td>\n",
              "      <td>0.528053</td>\n",
              "      <td>149.646865</td>\n",
              "      <td>0.326733</td>\n",
              "      <td>1.039604</td>\n",
              "      <td>1.399340</td>\n",
              "      <td>0.729373</td>\n",
              "      <td>2.313531</td>\n",
              "      <td>0.544554</td>\n",
              "    </tr>\n",
              "    <tr>\n",
              "      <th>std</th>\n",
              "      <td>9.082101</td>\n",
              "      <td>0.466011</td>\n",
              "      <td>1.032052</td>\n",
              "      <td>17.538143</td>\n",
              "      <td>51.830751</td>\n",
              "      <td>0.356198</td>\n",
              "      <td>0.525860</td>\n",
              "      <td>22.905161</td>\n",
              "      <td>0.469794</td>\n",
              "      <td>1.161075</td>\n",
              "      <td>0.616226</td>\n",
              "      <td>1.022606</td>\n",
              "      <td>0.612277</td>\n",
              "      <td>0.498835</td>\n",
              "    </tr>\n",
              "    <tr>\n",
              "      <th>min</th>\n",
              "      <td>29.000000</td>\n",
              "      <td>0.000000</td>\n",
              "      <td>0.000000</td>\n",
              "      <td>94.000000</td>\n",
              "      <td>126.000000</td>\n",
              "      <td>0.000000</td>\n",
              "      <td>0.000000</td>\n",
              "      <td>71.000000</td>\n",
              "      <td>0.000000</td>\n",
              "      <td>0.000000</td>\n",
              "      <td>0.000000</td>\n",
              "      <td>0.000000</td>\n",
              "      <td>0.000000</td>\n",
              "      <td>0.000000</td>\n",
              "    </tr>\n",
              "    <tr>\n",
              "      <th>25%</th>\n",
              "      <td>47.500000</td>\n",
              "      <td>0.000000</td>\n",
              "      <td>0.000000</td>\n",
              "      <td>120.000000</td>\n",
              "      <td>211.000000</td>\n",
              "      <td>0.000000</td>\n",
              "      <td>0.000000</td>\n",
              "      <td>133.500000</td>\n",
              "      <td>0.000000</td>\n",
              "      <td>0.000000</td>\n",
              "      <td>1.000000</td>\n",
              "      <td>0.000000</td>\n",
              "      <td>2.000000</td>\n",
              "      <td>0.000000</td>\n",
              "    </tr>\n",
              "    <tr>\n",
              "      <th>50%</th>\n",
              "      <td>55.000000</td>\n",
              "      <td>1.000000</td>\n",
              "      <td>1.000000</td>\n",
              "      <td>130.000000</td>\n",
              "      <td>240.000000</td>\n",
              "      <td>0.000000</td>\n",
              "      <td>1.000000</td>\n",
              "      <td>153.000000</td>\n",
              "      <td>0.000000</td>\n",
              "      <td>0.800000</td>\n",
              "      <td>1.000000</td>\n",
              "      <td>0.000000</td>\n",
              "      <td>2.000000</td>\n",
              "      <td>1.000000</td>\n",
              "    </tr>\n",
              "    <tr>\n",
              "      <th>75%</th>\n",
              "      <td>61.000000</td>\n",
              "      <td>1.000000</td>\n",
              "      <td>2.000000</td>\n",
              "      <td>140.000000</td>\n",
              "      <td>274.500000</td>\n",
              "      <td>0.000000</td>\n",
              "      <td>1.000000</td>\n",
              "      <td>166.000000</td>\n",
              "      <td>1.000000</td>\n",
              "      <td>1.600000</td>\n",
              "      <td>2.000000</td>\n",
              "      <td>1.000000</td>\n",
              "      <td>3.000000</td>\n",
              "      <td>1.000000</td>\n",
              "    </tr>\n",
              "    <tr>\n",
              "      <th>max</th>\n",
              "      <td>77.000000</td>\n",
              "      <td>1.000000</td>\n",
              "      <td>3.000000</td>\n",
              "      <td>200.000000</td>\n",
              "      <td>564.000000</td>\n",
              "      <td>1.000000</td>\n",
              "      <td>2.000000</td>\n",
              "      <td>202.000000</td>\n",
              "      <td>1.000000</td>\n",
              "      <td>6.200000</td>\n",
              "      <td>2.000000</td>\n",
              "      <td>4.000000</td>\n",
              "      <td>3.000000</td>\n",
              "      <td>1.000000</td>\n",
              "    </tr>\n",
              "  </tbody>\n",
              "</table>\n",
              "</div>"
            ],
            "text/plain": [
              "              age         sex          cp  ...         caa       thall      output\n",
              "count  303.000000  303.000000  303.000000  ...  303.000000  303.000000  303.000000\n",
              "mean    54.366337    0.683168    0.966997  ...    0.729373    2.313531    0.544554\n",
              "std      9.082101    0.466011    1.032052  ...    1.022606    0.612277    0.498835\n",
              "min     29.000000    0.000000    0.000000  ...    0.000000    0.000000    0.000000\n",
              "25%     47.500000    0.000000    0.000000  ...    0.000000    2.000000    0.000000\n",
              "50%     55.000000    1.000000    1.000000  ...    0.000000    2.000000    1.000000\n",
              "75%     61.000000    1.000000    2.000000  ...    1.000000    3.000000    1.000000\n",
              "max     77.000000    1.000000    3.000000  ...    4.000000    3.000000    1.000000\n",
              "\n",
              "[8 rows x 14 columns]"
            ]
          },
          "metadata": {},
          "execution_count": 47
        }
      ]
    },
    {
      "cell_type": "code",
      "metadata": {
        "id": "WZ3jLCuEOfbJ"
      },
      "source": [
        "# armazenando os labels em um array\n",
        "labels = np.array(df['output'])\n",
        "\n",
        "# salvando a ordem das features\n",
        "feature_list = list(df.columns)"
      ],
      "execution_count": 48,
      "outputs": []
    },
    {
      "cell_type": "code",
      "metadata": {
        "id": "Q5wIxGj68N9g",
        "colab": {
          "base_uri": "https://localhost:8080/"
        },
        "outputId": "d8b10ed0-7523-43ff-da1e-a01b5e4e0cde"
      },
      "source": [
        "# removendo a coluna de labels do df original\n",
        "df = df.drop('output', axis = 1)\n",
        "\n",
        "# check\n",
        "df.columns"
      ],
      "execution_count": 49,
      "outputs": [
        {
          "output_type": "execute_result",
          "data": {
            "text/plain": [
              "Index(['age', 'sex', 'cp', 'trtbps', 'chol', 'fbs', 'restecg', 'thalachh',\n",
              "       'exng', 'oldpeak', 'slp', 'caa', 'thall'],\n",
              "      dtype='object')"
            ]
          },
          "metadata": {},
          "execution_count": 49
        }
      ]
    },
    {
      "cell_type": "code",
      "metadata": {
        "id": "H24By9Vf8N9k"
      },
      "source": [
        "# convertendo df para array\n",
        "data = np.array(df)"
      ],
      "execution_count": 50,
      "outputs": []
    },
    {
      "cell_type": "markdown",
      "metadata": {
        "id": "WY6_Mcme8N9o"
      },
      "source": [
        "Agora estamos quase prontos para a modelagem em si!\n",
        "\n",
        "Precisamos apenas separar uma parte dos nossos dados para que seja possível avaliar os modelos que vamos treinar. "
      ]
    },
    {
      "cell_type": "code",
      "metadata": {
        "id": "Ews_1IMu8N9p"
      },
      "source": [
        "# importar train_test_split do scikitlearn \n",
        "from sklearn.model_selection import train_test_split\n",
        "\n",
        "# aplicando a funcao train_test_split para separar os conjuntos de treino e \n",
        "# teste segundo uma porcentagem de separação definida. \n",
        "train_data, test_data, train_labels, test_labels = train_test_split(data, labels, test_size = 0.25, random_state = 42)"
      ],
      "execution_count": 51,
      "outputs": []
    },
    {
      "cell_type": "markdown",
      "metadata": {
        "id": "FYsqiOG18N9v"
      },
      "source": [
        "### Baseline: Comparando com um modelo aleatorio!"
      ]
    },
    {
      "cell_type": "markdown",
      "metadata": {
        "id": "JpkQtbyW8N9w"
      },
      "source": [
        "Podemos criar uma base de comparação para os modelos que queremos avaliar. \n",
        "\n",
        "No caso da classificação, o baseline pode ser construído a partir de um modelo aleatório. Nesse caso, são atribuídos 0s e 1s de forma aleatória para todas as amostras de teste. Podemos pensar que o modelo baseline é apenas um chute aleatório sobre o resultado do teste positivo ou negativo. "
      ]
    },
    {
      "cell_type": "code",
      "metadata": {
        "id": "orOp85nl5QDw",
        "colab": {
          "base_uri": "https://localhost:8080/"
        },
        "outputId": "0f9d7835-17d8-40a7-a718-3e3f16f5daf3"
      },
      "source": [
        "# criando baseline\n",
        "baseline_preds = np.random.choice([0,1], size = len(test_labels))\n",
        "\n",
        "print(baseline_preds)"
      ],
      "execution_count": 52,
      "outputs": [
        {
          "output_type": "stream",
          "text": [
            "[0 1 1 0 0 0 1 0 1 0 0 1 1 0 1 0 0 0 0 1 1 0 1 1 1 1 0 0 0 0 1 1 1 1 1 1 1\n",
            " 1 1 0 0 1 1 0 0 0 0 0 1 1 1 0 1 1 1 1 0 0 1 1 1 1 0 0 0 1 1 0 1 1 0 0 1 1\n",
            " 1 0]\n"
          ],
          "name": "stdout"
        }
      ]
    },
    {
      "cell_type": "code",
      "metadata": {
        "id": "6Aobv8rd8N9x",
        "colab": {
          "base_uri": "https://localhost:8080/"
        },
        "outputId": "7bcadfa5-adc6-4ffe-90bc-b2543125e588"
      },
      "source": [
        "# importar biblioteca para calculo de métricas\n",
        "from sklearn import metrics  \n",
        "\n",
        "# calculando medidas de erro\n",
        "# essas medidas são calculadas a partir da comparação com o valor real do nosso conjunto de teste\n",
        "print('Matriz de Confusão\\n', metrics.confusion_matrix(test_labels, baseline_preds)) \n",
        "print('\\nAcurácia\\n', metrics.accuracy_score(test_labels, baseline_preds)) \n",
        "print('\\nAcurácia Balanceada por classe\\n', metrics.balanced_accuracy_score(test_labels, baseline_preds)) \n",
        "print('\\nPrecision\\n', metrics.precision_score(test_labels, baseline_preds)) \n",
        "print('\\nRecall\\n', metrics.recall_score(test_labels, baseline_preds)) \n",
        "print('\\nF1\\n', metrics.f1_score(test_labels, baseline_preds)) \n",
        "\n",
        "print('\\nAUCROC\\n', metrics.roc_auc_score(test_labels, baseline_preds))"
      ],
      "execution_count": 53,
      "outputs": [
        {
          "output_type": "stream",
          "text": [
            "Matriz de Confusão\n",
            " [[15 20]\n",
            " [19 22]]\n",
            "\n",
            "Acurácia\n",
            " 0.4868421052631579\n",
            "\n",
            "Acurácia Balanceada por classe\n",
            " 0.4825783972125436\n",
            "\n",
            "Precision\n",
            " 0.5238095238095238\n",
            "\n",
            "Recall\n",
            " 0.5365853658536586\n",
            "\n",
            "F1\n",
            " 0.5301204819277109\n",
            "\n",
            "AUCROC\n",
            " 0.4825783972125436\n"
          ],
          "name": "stdout"
        }
      ]
    },
    {
      "cell_type": "code",
      "metadata": {
        "id": "vKXqYbwLUkP_",
        "colab": {
          "base_uri": "https://localhost:8080/"
        },
        "outputId": "54c15d86-a2a7-414e-c9cf-ad3d69ea7de1"
      },
      "source": [
        "print('\\nClassification Report\\n', metrics.classification_report(test_labels, baseline_preds)) "
      ],
      "execution_count": 54,
      "outputs": [
        {
          "output_type": "stream",
          "text": [
            "\n",
            "Classification Report\n",
            "               precision    recall  f1-score   support\n",
            "\n",
            "           0       0.44      0.43      0.43        35\n",
            "           1       0.52      0.54      0.53        41\n",
            "\n",
            "    accuracy                           0.49        76\n",
            "   macro avg       0.48      0.48      0.48        76\n",
            "weighted avg       0.49      0.49      0.49        76\n",
            "\n"
          ],
          "name": "stdout"
        }
      ]
    },
    {
      "cell_type": "markdown",
      "metadata": {
        "id": "1NH3QMlf8N91"
      },
      "source": [
        "Agora que avaliamos nosso baseline e identificamos o erro desse modelo, podemos criar outros modelos de classificação e comparar os resultados encontrados!\n",
        "\n",
        "Dica: Se não conseguirmos um erro menor do que o baseline, talvez precisemos repensar nossa abordagem."
      ]
    },
    {
      "cell_type": "markdown",
      "metadata": {
        "id": "nstvyr-hdG1S"
      },
      "source": [
        "Vamos dar uma olhada como ficou o nosso baseline em relação as amostras de teste?"
      ]
    },
    {
      "cell_type": "code",
      "metadata": {
        "id": "eqGMncqndAaJ",
        "colab": {
          "base_uri": "https://localhost:8080/",
          "height": 297
        },
        "outputId": "d5604836-8987-4ef3-a88a-a30c94f09c17"
      },
      "source": [
        "#criando labels e os valores armazenados nas barras\n",
        "labels = ['Tested_negatives', 'Tested_positives']\n",
        "count_test = [(test_labels == 0).sum(), (test_labels == 1).sum()]\n",
        "count_baseline = [(baseline_preds == 0).sum(), (baseline_preds == 1).sum()]\n",
        "\n",
        "#criando as barras\n",
        "x = np.arange(len(labels))  \n",
        "width = 0.3 \n",
        "\n",
        "#criando os plots\n",
        "fig, ax = plt.subplots()\n",
        "rects1 = ax.bar(x - width/2, count_test, width, label='Real Values')\n",
        "rects2 = ax.bar(x + width/2, count_baseline, width, label='Baseline Values')\n",
        "\n",
        "# Adiconando rotulos, titulos\n",
        "ax.set_ylabel('Instances')\n",
        "ax.set_title('Real x Baseline')\n",
        "ax.set_xticks(x)\n",
        "ax.set_xticklabels(labels)\n",
        "ax.legend()\n",
        "\n",
        "\n",
        "def autolabel(rects):\n",
        "    \"\"\"Attach a text label above each bar in *rects*, displaying its height.\"\"\"\n",
        "    for rect in rects:\n",
        "        height = rect.get_height()\n",
        "        ax.annotate('{}'.format(height),\n",
        "                    xy=(rect.get_x() + rect.get_width() / 2, height),\n",
        "                    xytext=(0, 3),  # 3 points vertical offset\n",
        "                    textcoords=\"offset points\",\n",
        "                    ha='center', va='bottom')\n",
        "\n",
        "#plotando o grafico de barras agrupadas\n",
        "autolabel(rects1)\n",
        "autolabel(rects2)\n",
        "fig.tight_layout()\n",
        "\n",
        "plt.show()"
      ],
      "execution_count": 55,
      "outputs": [
        {
          "output_type": "display_data",
          "data": {
            "image/png": "[encoded data removed]",
            "text/plain": [
              "<Figure size 432x288 with 1 Axes>"
            ]
          },
          "metadata": {
            "needs_background": "light"
          }
        }
      ]
    },
    {
      "cell_type": "markdown",
      "metadata": {
        "id": "p_6LHRU0WoaJ"
      },
      "source": [
        "# KNN"
      ]
    },
    {
      "cell_type": "markdown",
      "metadata": {
        "id": "uem0TvVMWw-X"
      },
      "source": [
        "Vamos aplicar o modelo de classificação: o k-nearest neighbors!"
      ]
    },
    {
      "cell_type": "code",
      "metadata": {
        "id": "ECIYz7rg8N92"
      },
      "source": [
        "# importar o modelo de KNN\n",
        "from sklearn.neighbors import KNeighborsClassifier \n",
        "\n",
        "# treinando o modelo no conjunto de dados de treino\n",
        "classifier = KNeighborsClassifier().fit(train_data, train_labels);"
      ],
      "execution_count": 56,
      "outputs": []
    },
    {
      "cell_type": "code",
      "metadata": {
        "id": "E-2XWEDe8N98",
        "colab": {
          "base_uri": "https://localhost:8080/",
          "height": 362
        },
        "outputId": "a52abc25-27e8-4c09-db7a-5155e3bec653"
      },
      "source": [
        "# aplicando o modelo treinado \n",
        "#em todo o conjunto de teste\n",
        "predictions1_labels = classifier.predict(test_data)\n",
        "\n",
        "# Exibindo dataframe com valores 10 reais e suas respectivas previsões\n",
        "p = pd.DataFrame({'Real': test_labels, 'Previsto': predictions1_labels})  \n",
        "p.head(10)"
      ],
      "execution_count": 57,
      "outputs": [
        {
          "output_type": "execute_result",
          "data": {
            "text/html": [
              "<div>\n",
              "<style scoped>\n",
              "    .dataframe tbody tr th:only-of-type {\n",
              "        vertical-align: middle;\n",
              "    }\n",
              "\n",
              "    .dataframe tbody tr th {\n",
              "        vertical-align: top;\n",
              "    }\n",
              "\n",
              "    .dataframe thead th {\n",
              "        text-align: right;\n",
              "    }\n",
              "</style>\n",
              "<table border=\"1\" class=\"dataframe\">\n",
              "  <thead>\n",
              "    <tr style=\"text-align: right;\">\n",
              "      <th></th>\n",
              "      <th>Real</th>\n",
              "      <th>Previsto</th>\n",
              "    </tr>\n",
              "  </thead>\n",
              "  <tbody>\n",
              "    <tr>\n",
              "      <th>0</th>\n",
              "      <td>0</td>\n",
              "      <td>0</td>\n",
              "    </tr>\n",
              "    <tr>\n",
              "      <th>1</th>\n",
              "      <td>0</td>\n",
              "      <td>1</td>\n",
              "    </tr>\n",
              "    <tr>\n",
              "      <th>2</th>\n",
              "      <td>1</td>\n",
              "      <td>1</td>\n",
              "    </tr>\n",
              "    <tr>\n",
              "      <th>3</th>\n",
              "      <td>0</td>\n",
              "      <td>1</td>\n",
              "    </tr>\n",
              "    <tr>\n",
              "      <th>4</th>\n",
              "      <td>1</td>\n",
              "      <td>0</td>\n",
              "    </tr>\n",
              "    <tr>\n",
              "      <th>5</th>\n",
              "      <td>1</td>\n",
              "      <td>1</td>\n",
              "    </tr>\n",
              "    <tr>\n",
              "      <th>6</th>\n",
              "      <td>1</td>\n",
              "      <td>1</td>\n",
              "    </tr>\n",
              "    <tr>\n",
              "      <th>7</th>\n",
              "      <td>0</td>\n",
              "      <td>0</td>\n",
              "    </tr>\n",
              "    <tr>\n",
              "      <th>8</th>\n",
              "      <td>0</td>\n",
              "      <td>0</td>\n",
              "    </tr>\n",
              "    <tr>\n",
              "      <th>9</th>\n",
              "      <td>1</td>\n",
              "      <td>1</td>\n",
              "    </tr>\n",
              "  </tbody>\n",
              "</table>\n",
              "</div>"
            ],
            "text/plain": [
              "   Real  Previsto\n",
              "0     0         0\n",
              "1     0         1\n",
              "2     1         1\n",
              "3     0         1\n",
              "4     1         0\n",
              "5     1         1\n",
              "6     1         1\n",
              "7     0         0\n",
              "8     0         0\n",
              "9     1         1"
            ]
          },
          "metadata": {},
          "execution_count": 57
        }
      ]
    },
    {
      "cell_type": "code",
      "metadata": {
        "id": "UavyKXJ88N-A",
        "colab": {
          "base_uri": "https://localhost:8080/"
        },
        "outputId": "78fda0c6-a9d4-45cd-fa0e-cd9b09bbb534"
      },
      "source": [
        "#avaliando o modelo\n",
        "print('Matriz de Confusão\\n', metrics.confusion_matrix(test_labels, predictions1_labels)) \n",
        "print('\\nAcurácia\\n', metrics.accuracy_score(test_labels, predictions1_labels)) \n",
        "print('\\nAcurácia Balanceada por classe\\n', metrics.balanced_accuracy_score(test_labels, predictions1_labels)) \n",
        "print('\\nPrecision\\n', metrics.precision_score(test_labels, predictions1_labels)) \n",
        "print('\\nRecall\\n', metrics.recall_score(test_labels, predictions1_labels)) \n",
        "print('\\nF1\\n', metrics.f1_score(test_labels, predictions1_labels)) \n",
        "\n",
        "print('\\nAUCROC\\n', metrics.roc_auc_score(test_labels, predictions1_labels))"
      ],
      "execution_count": 58,
      "outputs": [
        {
          "output_type": "stream",
          "text": [
            "Matriz de Confusão\n",
            " [[22 13]\n",
            " [10 31]]\n",
            "\n",
            "Acurácia\n",
            " 0.6973684210526315\n",
            "\n",
            "Acurácia Balanceada por classe\n",
            " 0.6923344947735192\n",
            "\n",
            "Precision\n",
            " 0.7045454545454546\n",
            "\n",
            "Recall\n",
            " 0.7560975609756098\n",
            "\n",
            "F1\n",
            " 0.7294117647058823\n",
            "\n",
            "AUCROC\n",
            " 0.6923344947735192\n"
          ],
          "name": "stdout"
        }
      ]
    },
    {
      "cell_type": "markdown",
      "metadata": {
        "id": "KQ2Qg7WPfaAi"
      },
      "source": [
        "Resuminho:"
      ]
    },
    {
      "cell_type": "code",
      "metadata": {
        "id": "gBnEcrSbfeV3",
        "colab": {
          "base_uri": "https://localhost:8080/"
        },
        "outputId": "d33b2f9e-facd-49e2-f71f-6ddd9bb30092"
      },
      "source": [
        "print('\\nClassification Report\\n', metrics.classification_report(test_labels, predictions1_labels)) "
      ],
      "execution_count": 59,
      "outputs": [
        {
          "output_type": "stream",
          "text": [
            "\n",
            "Classification Report\n",
            "               precision    recall  f1-score   support\n",
            "\n",
            "           0       0.69      0.63      0.66        35\n",
            "           1       0.70      0.76      0.73        41\n",
            "\n",
            "    accuracy                           0.70        76\n",
            "   macro avg       0.70      0.69      0.69        76\n",
            "weighted avg       0.70      0.70      0.70        76\n",
            "\n"
          ],
          "name": "stdout"
        }
      ]
    },
    {
      "cell_type": "markdown",
      "metadata": {
        "id": "7A0leRBV8N-E"
      },
      "source": [
        "O knn ja encontrou um erro bem menor do que o encontrado pelo nosso baseline! \n",
        "Entretanto, as medidas ainda estão proximas do resultado de um modelo aleatorio. \n",
        "\n",
        "Vamos dar uma olhada como ficou o knn em relação as amostras de teste?\n"
      ]
    },
    {
      "cell_type": "code",
      "metadata": {
        "id": "8C1PMnjA8N-F",
        "colab": {
          "base_uri": "https://localhost:8080/",
          "height": 297
        },
        "outputId": "8b52ef33-be4d-4aeb-8180-a253137f4aa3"
      },
      "source": [
        "labels = ['Tested_negatives', 'Tested_positives']\n",
        "count_test = [(test_labels == 0).sum(), (test_labels == 1).sum()]\n",
        "count_knn = [(predictions1_labels == 0).sum(), (predictions1_labels == 1).sum()]\n",
        "\n",
        "x = np.arange(len(labels))  \n",
        "width = 0.3  \n",
        "\n",
        "fig, ax = plt.subplots()\n",
        "rects1 = ax.bar(x - width/2, count_test, width, label='Real Values')\n",
        "rects2 = ax.bar(x + width/2, count_knn, width, label='KNN Values')\n",
        "\n",
        "ax.set_ylabel('Instances')\n",
        "ax.set_title('Real x KNN')\n",
        "ax.set_xticks(x)\n",
        "ax.set_xticklabels(labels)\n",
        "ax.legend()\n",
        "\n",
        "def autolabel(rects):\n",
        "    \"\"\"Attach a text label above each bar in *rects*, displaying its height.\"\"\"\n",
        "    for rect in rects:\n",
        "        height = rect.get_height()\n",
        "        ax.annotate('{}'.format(height),\n",
        "                    xy=(rect.get_x() + rect.get_width() / 2, height),\n",
        "                    xytext=(0, 3),  \n",
        "                    textcoords=\"offset points\",\n",
        "                    ha='center', va='bottom')\n",
        "\n",
        "autolabel(rects1)\n",
        "autolabel(rects2)\n",
        "fig.tight_layout()\n",
        "\n",
        "plt.show()"
      ],
      "execution_count": 60,
      "outputs": [
        {
          "output_type": "display_data",
          "data": {
            "image/png": "[encoded data removed]",
            "text/plain": [
              "<Figure size 432x288 with 1 Axes>"
            ]
          },
          "metadata": {
            "needs_background": "light"
          }
        }
      ]
    },
    {
      "cell_type": "markdown",
      "metadata": {
        "id": "aJXB1tN4ZSOI"
      },
      "source": [
        "# Support Vector Machine SVM"
      ]
    },
    {
      "cell_type": "code",
      "metadata": {
        "id": "vE-1qSaUZsA9",
        "colab": {
          "base_uri": "https://localhost:8080/"
        },
        "outputId": "c754b179-e48d-4a3a-df94-5a9deb3c50cd"
      },
      "source": [
        "#importar o modelo SVM\n",
        "from sklearn.svm import SVC\n",
        "\n",
        "# instanciacao e determinacao dos hiperparâmetros do SVM: tipo de kernel\n",
        "classifier = SVC(kernel='rbf')\n",
        "\n",
        "# treinando o SVM\n",
        "classifier.fit(train_data,train_labels)"
      ],
      "execution_count": 61,
      "outputs": [
        {
          "output_type": "execute_result",
          "data": {
            "text/plain": [
              "SVC(C=1.0, break_ties=False, cache_size=200, class_weight=None, coef0=0.0,\n",
              "    decision_function_shape='ovr', degree=3, gamma='scale', kernel='rbf',\n",
              "    max_iter=-1, probability=False, random_state=None, shrinking=True,\n",
              "    tol=0.001, verbose=False)"
            ]
          },
          "metadata": {},
          "execution_count": 61
        }
      ]
    },
    {
      "cell_type": "code",
      "metadata": {
        "id": "sEqrz0n9Zr5K",
        "colab": {
          "base_uri": "https://localhost:8080/",
          "height": 362
        },
        "outputId": "324096e5-aeab-4dc1-f0cf-8744474a5062"
      },
      "source": [
        "# aplicando o modelo treinado \n",
        "#em todo o conjunto de teste\n",
        "predictions2_labels = classifier.predict(test_data)\n",
        "\n",
        "# Exibindo dataframe com valores 10 reais e suas respectivas previsões\n",
        "p = pd.DataFrame({'Real': test_labels, 'Previsto': predictions2_labels})  \n",
        "p.head(10)"
      ],
      "execution_count": 62,
      "outputs": [
        {
          "output_type": "execute_result",
          "data": {
            "text/html": [
              "<div>\n",
              "<style scoped>\n",
              "    .dataframe tbody tr th:only-of-type {\n",
              "        vertical-align: middle;\n",
              "    }\n",
              "\n",
              "    .dataframe tbody tr th {\n",
              "        vertical-align: top;\n",
              "    }\n",
              "\n",
              "    .dataframe thead th {\n",
              "        text-align: right;\n",
              "    }\n",
              "</style>\n",
              "<table border=\"1\" class=\"dataframe\">\n",
              "  <thead>\n",
              "    <tr style=\"text-align: right;\">\n",
              "      <th></th>\n",
              "      <th>Real</th>\n",
              "      <th>Previsto</th>\n",
              "    </tr>\n",
              "  </thead>\n",
              "  <tbody>\n",
              "    <tr>\n",
              "      <th>0</th>\n",
              "      <td>0</td>\n",
              "      <td>0</td>\n",
              "    </tr>\n",
              "    <tr>\n",
              "      <th>1</th>\n",
              "      <td>0</td>\n",
              "      <td>1</td>\n",
              "    </tr>\n",
              "    <tr>\n",
              "      <th>2</th>\n",
              "      <td>1</td>\n",
              "      <td>1</td>\n",
              "    </tr>\n",
              "    <tr>\n",
              "      <th>3</th>\n",
              "      <td>0</td>\n",
              "      <td>1</td>\n",
              "    </tr>\n",
              "    <tr>\n",
              "      <th>4</th>\n",
              "      <td>1</td>\n",
              "      <td>0</td>\n",
              "    </tr>\n",
              "    <tr>\n",
              "      <th>5</th>\n",
              "      <td>1</td>\n",
              "      <td>1</td>\n",
              "    </tr>\n",
              "    <tr>\n",
              "      <th>6</th>\n",
              "      <td>1</td>\n",
              "      <td>1</td>\n",
              "    </tr>\n",
              "    <tr>\n",
              "      <th>7</th>\n",
              "      <td>0</td>\n",
              "      <td>0</td>\n",
              "    </tr>\n",
              "    <tr>\n",
              "      <th>8</th>\n",
              "      <td>0</td>\n",
              "      <td>0</td>\n",
              "    </tr>\n",
              "    <tr>\n",
              "      <th>9</th>\n",
              "      <td>1</td>\n",
              "      <td>1</td>\n",
              "    </tr>\n",
              "  </tbody>\n",
              "</table>\n",
              "</div>"
            ],
            "text/plain": [
              "   Real  Previsto\n",
              "0     0         0\n",
              "1     0         1\n",
              "2     1         1\n",
              "3     0         1\n",
              "4     1         0\n",
              "5     1         1\n",
              "6     1         1\n",
              "7     0         0\n",
              "8     0         0\n",
              "9     1         1"
            ]
          },
          "metadata": {},
          "execution_count": 62
        }
      ]
    },
    {
      "cell_type": "code",
      "metadata": {
        "id": "sAkezhEKZrwC",
        "colab": {
          "base_uri": "https://localhost:8080/"
        },
        "outputId": "35021dcd-4e55-4695-f2dd-e3c9ab9237d4"
      },
      "source": [
        "print('Matriz de Confusão\\n', metrics.confusion_matrix(test_labels, predictions2_labels)) \n",
        "print('\\nAcurácia\\n', metrics.accuracy_score(test_labels, predictions2_labels)) \n",
        "print('\\nAcurácia Balanceada por classe\\n', metrics.balanced_accuracy_score(test_labels, predictions2_labels)) \n",
        "print('\\nPrecision\\n', metrics.precision_score(test_labels, predictions2_labels)) \n",
        "print('\\nRecall\\n', metrics.recall_score(test_labels, predictions2_labels)) \n",
        "print('\\nF1\\n', metrics.f1_score(test_labels, predictions2_labels)) \n",
        "\n",
        "print('\\nAUCROC\\n', metrics.roc_auc_score(test_labels, predictions2_labels))"
      ],
      "execution_count": 63,
      "outputs": [
        {
          "output_type": "stream",
          "text": [
            "Matriz de Confusão\n",
            " [[16 19]\n",
            " [ 4 37]]\n",
            "\n",
            "Acurácia\n",
            " 0.6973684210526315\n",
            "\n",
            "Acurácia Balanceada por classe\n",
            " 0.6797909407665506\n",
            "\n",
            "Precision\n",
            " 0.6607142857142857\n",
            "\n",
            "Recall\n",
            " 0.9024390243902439\n",
            "\n",
            "F1\n",
            " 0.7628865979381443\n",
            "\n",
            "AUCROC\n",
            " 0.6797909407665506\n"
          ],
          "name": "stdout"
        }
      ]
    },
    {
      "cell_type": "markdown",
      "metadata": {
        "id": "tWz5vVEkiQr2"
      },
      "source": [
        "Resuminho..."
      ]
    },
    {
      "cell_type": "code",
      "metadata": {
        "id": "IFGJLVR0iPtf",
        "colab": {
          "base_uri": "https://localhost:8080/"
        },
        "outputId": "a91c932c-b00d-41c7-d469-10d7543b82eb"
      },
      "source": [
        "print('\\nClassification Report\\n', metrics.classification_report(test_labels, predictions2_labels)) "
      ],
      "execution_count": 64,
      "outputs": [
        {
          "output_type": "stream",
          "text": [
            "\n",
            "Classification Report\n",
            "               precision    recall  f1-score   support\n",
            "\n",
            "           0       0.80      0.46      0.58        35\n",
            "           1       0.66      0.90      0.76        41\n",
            "\n",
            "    accuracy                           0.70        76\n",
            "   macro avg       0.73      0.68      0.67        76\n",
            "weighted avg       0.72      0.70      0.68        76\n",
            "\n"
          ],
          "name": "stdout"
        }
      ]
    },
    {
      "cell_type": "markdown",
      "metadata": {
        "id": "GlmZZD4EbOmY"
      },
      "source": [
        "Vamos olhar como ficou o modelo? :)\n"
      ]
    },
    {
      "cell_type": "code",
      "metadata": {
        "id": "hzlc5wcha-a7",
        "colab": {
          "base_uri": "https://localhost:8080/",
          "height": 297
        },
        "outputId": "14291be4-07a5-4b57-f366-4023acf7768b"
      },
      "source": [
        "labels = ['Tested_negatives', 'Tested_positives']\n",
        "count_test = [(test_labels == 0).sum(), (test_labels == 1).sum()]\n",
        "count_svm = [(predictions2_labels == 0).sum(), (predictions2_labels == 1).sum()]\n",
        "\n",
        "x = np.arange(len(labels))  \n",
        "width = 0.3 \n",
        "\n",
        "fig, ax = plt.subplots()\n",
        "rects1 = ax.bar(x - width/2, count_test, width, label='Real Values')\n",
        "rects2 = ax.bar(x + width/2, count_svm, width, label='SVM Values')\n",
        "\n",
        "ax.set_ylabel('Instances')\n",
        "ax.set_title('Real x SVM')\n",
        "ax.set_xticks(x)\n",
        "ax.set_xticklabels(labels)\n",
        "ax.legend()\n",
        "\n",
        "\n",
        "def autolabel(rects):\n",
        "    \"\"\"Attach a text label above each bar in *rects*, displaying its height.\"\"\"\n",
        "    for rect in rects:\n",
        "        height = rect.get_height()\n",
        "        ax.annotate('{}'.format(height),\n",
        "                    xy=(rect.get_x() + rect.get_width() / 2, height),\n",
        "                    xytext=(0, 3),  \n",
        "                    textcoords=\"offset points\",\n",
        "                    ha='center', va='bottom')\n",
        "\n",
        "autolabel(rects1)\n",
        "autolabel(rects2)\n",
        "fig.tight_layout()\n",
        "\n",
        "plt.show()"
      ],
      "execution_count": 65,
      "outputs": [
        {
          "output_type": "display_data",
          "data": {
            "image/png": "[encoded data removed]",
            "text/plain": [
              "<Figure size 432x288 with 1 Axes>"
            ]
          },
          "metadata": {
            "needs_background": "light"
          }
        }
      ]
    },
    {
      "cell_type": "markdown",
      "metadata": {
        "id": "MglFMlLLbggA"
      },
      "source": [
        "# Random Forest Classifiers\n"
      ]
    },
    {
      "cell_type": "code",
      "metadata": {
        "id": "7LrKgJhb8N-K"
      },
      "source": [
        "# importar o modelo Random Forest Regressor\n",
        "from sklearn.ensemble import RandomForestClassifier\n",
        "\n",
        "# treinando o modelo \n",
        "classifier = RandomForestClassifier(n_estimators= 10, random_state=42).fit(train_data, train_labels);"
      ],
      "execution_count": 66,
      "outputs": []
    },
    {
      "cell_type": "code",
      "metadata": {
        "id": "o86GOgTY8N-P",
        "colab": {
          "base_uri": "https://localhost:8080/",
          "height": 362
        },
        "outputId": "c8c82246-ccd7-4255-9d16-3b30982b69a4"
      },
      "source": [
        "# aplicando o modelo treinado para a previsão do resultado do teste\n",
        "predictions3_labels = classifier.predict(test_data)\n",
        "\n",
        "# Exibindo dataframe com valores 10 reais e suas respectivas previsões\n",
        "p = pd.DataFrame({'Real': test_labels, 'Previsto': predictions3_labels})  \n",
        "p.head(10)"
      ],
      "execution_count": 67,
      "outputs": [
        {
          "output_type": "execute_result",
          "data": {
            "text/html": [
              "<div>\n",
              "<style scoped>\n",
              "    .dataframe tbody tr th:only-of-type {\n",
              "        vertical-align: middle;\n",
              "    }\n",
              "\n",
              "    .dataframe tbody tr th {\n",
              "        vertical-align: top;\n",
              "    }\n",
              "\n",
              "    .dataframe thead th {\n",
              "        text-align: right;\n",
              "    }\n",
              "</style>\n",
              "<table border=\"1\" class=\"dataframe\">\n",
              "  <thead>\n",
              "    <tr style=\"text-align: right;\">\n",
              "      <th></th>\n",
              "      <th>Real</th>\n",
              "      <th>Previsto</th>\n",
              "    </tr>\n",
              "  </thead>\n",
              "  <tbody>\n",
              "    <tr>\n",
              "      <th>0</th>\n",
              "      <td>0</td>\n",
              "      <td>0</td>\n",
              "    </tr>\n",
              "    <tr>\n",
              "      <th>1</th>\n",
              "      <td>0</td>\n",
              "      <td>1</td>\n",
              "    </tr>\n",
              "    <tr>\n",
              "      <th>2</th>\n",
              "      <td>1</td>\n",
              "      <td>0</td>\n",
              "    </tr>\n",
              "    <tr>\n",
              "      <th>3</th>\n",
              "      <td>0</td>\n",
              "      <td>0</td>\n",
              "    </tr>\n",
              "    <tr>\n",
              "      <th>4</th>\n",
              "      <td>1</td>\n",
              "      <td>1</td>\n",
              "    </tr>\n",
              "    <tr>\n",
              "      <th>5</th>\n",
              "      <td>1</td>\n",
              "      <td>1</td>\n",
              "    </tr>\n",
              "    <tr>\n",
              "      <th>6</th>\n",
              "      <td>1</td>\n",
              "      <td>0</td>\n",
              "    </tr>\n",
              "    <tr>\n",
              "      <th>7</th>\n",
              "      <td>0</td>\n",
              "      <td>0</td>\n",
              "    </tr>\n",
              "    <tr>\n",
              "      <th>8</th>\n",
              "      <td>0</td>\n",
              "      <td>0</td>\n",
              "    </tr>\n",
              "    <tr>\n",
              "      <th>9</th>\n",
              "      <td>1</td>\n",
              "      <td>1</td>\n",
              "    </tr>\n",
              "  </tbody>\n",
              "</table>\n",
              "</div>"
            ],
            "text/plain": [
              "   Real  Previsto\n",
              "0     0         0\n",
              "1     0         1\n",
              "2     1         0\n",
              "3     0         0\n",
              "4     1         1\n",
              "5     1         1\n",
              "6     1         0\n",
              "7     0         0\n",
              "8     0         0\n",
              "9     1         1"
            ]
          },
          "metadata": {},
          "execution_count": 67
        }
      ]
    },
    {
      "cell_type": "code",
      "metadata": {
        "id": "j3XYU8C_clmb",
        "colab": {
          "base_uri": "https://localhost:8080/"
        },
        "outputId": "33c56c73-cf40-4a6d-98ed-0b95f324a230"
      },
      "source": [
        "print('Matriz de Confusão\\n', metrics.confusion_matrix(test_labels, predictions3_labels)) \n",
        "print('\\nAcurácia\\n', metrics.accuracy_score(test_labels, predictions3_labels)) \n",
        "print('\\nAcurácia Balanceada por classe\\n', metrics.balanced_accuracy_score(test_labels, predictions3_labels)) \n",
        "print('\\nPrecision\\n', metrics.precision_score(test_labels, predictions3_labels)) \n",
        "print('\\nRecall\\n', metrics.recall_score(test_labels, predictions3_labels)) \n",
        "print('\\nF1\\n', metrics.f1_score(test_labels, predictions3_labels)) \n",
        "\n",
        "print('\\nAUCROC\\n', metrics.roc_auc_score(test_labels, predictions3_labels))"
      ],
      "execution_count": 68,
      "outputs": [
        {
          "output_type": "stream",
          "text": [
            "Matriz de Confusão\n",
            " [[29  6]\n",
            " [ 8 33]]\n",
            "\n",
            "Acurácia\n",
            " 0.8157894736842105\n",
            "\n",
            "Acurácia Balanceada por classe\n",
            " 0.8167247386759582\n",
            "\n",
            "Precision\n",
            " 0.8461538461538461\n",
            "\n",
            "Recall\n",
            " 0.8048780487804879\n",
            "\n",
            "F1\n",
            " 0.8250000000000001\n",
            "\n",
            "AUCROC\n",
            " 0.8167247386759581\n"
          ],
          "name": "stdout"
        }
      ]
    },
    {
      "cell_type": "markdown",
      "metadata": {
        "id": "Ekq770pckaJp"
      },
      "source": [
        "Resuminho...\n",
        "\n"
      ]
    },
    {
      "cell_type": "code",
      "metadata": {
        "id": "ie2ZqN7pka5m",
        "colab": {
          "base_uri": "https://localhost:8080/"
        },
        "outputId": "35cdb312-0b8d-4953-99e4-96f3772d3041"
      },
      "source": [
        "print('\\nClassification Report\\n', metrics.classification_report(test_labels, predictions3_labels)) "
      ],
      "execution_count": 69,
      "outputs": [
        {
          "output_type": "stream",
          "text": [
            "\n",
            "Classification Report\n",
            "               precision    recall  f1-score   support\n",
            "\n",
            "           0       0.78      0.83      0.81        35\n",
            "           1       0.85      0.80      0.83        41\n",
            "\n",
            "    accuracy                           0.82        76\n",
            "   macro avg       0.81      0.82      0.82        76\n",
            "weighted avg       0.82      0.82      0.82        76\n",
            "\n"
          ],
          "name": "stdout"
        }
      ]
    },
    {
      "cell_type": "markdown",
      "metadata": {
        "id": "C2q6M07mc1Sm"
      },
      "source": [
        "Vamos olhar como ficou o modelo:\n"
      ]
    },
    {
      "cell_type": "code",
      "metadata": {
        "id": "dVZgXwW18N-W",
        "colab": {
          "base_uri": "https://localhost:8080/",
          "height": 297
        },
        "outputId": "1362a5dd-5e60-43ec-bfaa-71a66dda9d43"
      },
      "source": [
        "labels = ['Tested_negatives', 'Tested_positives']\n",
        "count_test = [(test_labels == 0).sum(), (test_labels == 1).sum()]\n",
        "count_rf = [(predictions3_labels == 0).sum(), (predictions3_labels == 1).sum()]\n",
        "\n",
        "x = np.arange(len(labels))  \n",
        "width = 0.3 \n",
        "\n",
        "fig, ax = plt.subplots()\n",
        "rects1 = ax.bar(x - width/2, count_test, width, label='Real Values')\n",
        "rects2 = ax.bar(x + width/2, count_rf, width, label='RF Values')\n",
        "\n",
        "ax.set_ylabel('Instances')\n",
        "ax.set_title('Real x Random Forest')\n",
        "ax.set_xticks(x)\n",
        "ax.set_xticklabels(labels)\n",
        "ax.legend()\n",
        "\n",
        "def autolabel(rects):\n",
        "    \"\"\"Attach a text label above each bar in *rects*, displaying its height.\"\"\"\n",
        "    for rect in rects:\n",
        "        height = rect.get_height()\n",
        "        ax.annotate('{}'.format(height),\n",
        "                    xy=(rect.get_x() + rect.get_width() / 2, height),\n",
        "                    xytext=(0, 3),  \n",
        "                    textcoords=\"offset points\",\n",
        "                    ha='center', va='bottom')\n",
        "\n",
        "\n",
        "autolabel(rects1)\n",
        "autolabel(rects2)\n",
        "fig.tight_layout()\n",
        "\n",
        "plt.show()"
      ],
      "execution_count": 70,
      "outputs": [
        {
          "output_type": "display_data",
          "data": {
            "image/png": "[encoded data removed]",
            "text/plain": [
              "<Figure size 432x288 with 1 Axes>"
            ]
          },
          "metadata": {
            "needs_background": "light"
          }
        }
      ]
    },
    {
      "cell_type": "markdown",
      "metadata": {
        "id": "Ur8gD8oI8N-Y"
      },
      "source": [
        "Vamos agora comparar os resultados do 3 modelos de classificação e o nosso baseline?"
      ]
    },
    {
      "cell_type": "code",
      "metadata": {
        "id": "AviWSy_sehpN",
        "colab": {
          "base_uri": "https://localhost:8080/"
        },
        "outputId": "e90ffb41-bf2c-4ef9-bb94-d969568ce1a0"
      },
      "source": [
        "print('Erros do Baseline\\n')\n",
        "print('Classification Report\\n', metrics.classification_report(test_labels, baseline_preds)) \n"
      ],
      "execution_count": 71,
      "outputs": [
        {
          "output_type": "stream",
          "text": [
            "Erros do Baseline\n",
            "\n",
            "Classification Report\n",
            "               precision    recall  f1-score   support\n",
            "\n",
            "           0       0.44      0.43      0.43        35\n",
            "           1       0.52      0.54      0.53        41\n",
            "\n",
            "    accuracy                           0.49        76\n",
            "   macro avg       0.48      0.48      0.48        76\n",
            "weighted avg       0.49      0.49      0.49        76\n",
            "\n"
          ],
          "name": "stdout"
        }
      ]
    },
    {
      "cell_type": "code",
      "metadata": {
        "id": "V6riPr0lehgA",
        "colab": {
          "base_uri": "https://localhost:8080/"
        },
        "outputId": "cb458883-175f-4f11-98a5-76fb51c342c2"
      },
      "source": [
        "print('Erros do KNN\\n')\n",
        "print('Classification Report\\n', metrics.classification_report(test_labels, predictions1_labels)) "
      ],
      "execution_count": 72,
      "outputs": [
        {
          "output_type": "stream",
          "text": [
            "Erros do KNN\n",
            "\n",
            "Classification Report\n",
            "               precision    recall  f1-score   support\n",
            "\n",
            "           0       0.69      0.63      0.66        35\n",
            "           1       0.70      0.76      0.73        41\n",
            "\n",
            "    accuracy                           0.70        76\n",
            "   macro avg       0.70      0.69      0.69        76\n",
            "weighted avg       0.70      0.70      0.70        76\n",
            "\n"
          ],
          "name": "stdout"
        }
      ]
    },
    {
      "cell_type": "code",
      "metadata": {
        "id": "faWz7JGvehT_",
        "colab": {
          "base_uri": "https://localhost:8080/"
        },
        "outputId": "9f62c636-fdb9-4ed0-bfbe-01795ca7a79b"
      },
      "source": [
        "print('Erros do SVM')\n",
        "print('Classification Report\\n', metrics.classification_report(test_labels, predictions2_labels)) "
      ],
      "execution_count": 73,
      "outputs": [
        {
          "output_type": "stream",
          "text": [
            "Erros do SVM\n",
            "Classification Report\n",
            "               precision    recall  f1-score   support\n",
            "\n",
            "           0       0.80      0.46      0.58        35\n",
            "           1       0.66      0.90      0.76        41\n",
            "\n",
            "    accuracy                           0.70        76\n",
            "   macro avg       0.73      0.68      0.67        76\n",
            "weighted avg       0.72      0.70      0.68        76\n",
            "\n"
          ],
          "name": "stdout"
        }
      ]
    },
    {
      "cell_type": "code",
      "metadata": {
        "id": "S2hKjSOSd4sh",
        "colab": {
          "base_uri": "https://localhost:8080/"
        },
        "outputId": "98ef46ad-0b48-4ae6-c19f-5da8907c9488"
      },
      "source": [
        "print('Erros do Random Forest Classifier')\n",
        "print('Classification Report\\n', metrics.classification_report(test_labels, predictions3_labels)) "
      ],
      "execution_count": 74,
      "outputs": [
        {
          "output_type": "stream",
          "text": [
            "Erros do Random Forest Classifier\n",
            "Classification Report\n",
            "               precision    recall  f1-score   support\n",
            "\n",
            "           0       0.78      0.83      0.81        35\n",
            "           1       0.85      0.80      0.83        41\n",
            "\n",
            "    accuracy                           0.82        76\n",
            "   macro avg       0.81      0.82      0.82        76\n",
            "weighted avg       0.82      0.82      0.82        76\n",
            "\n"
          ],
          "name": "stdout"
        }
      ]
    }
  ]
}